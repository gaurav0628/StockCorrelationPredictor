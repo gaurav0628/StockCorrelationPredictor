{
 "cells": [
  {
   "cell_type": "markdown",
   "metadata": {},
   "source": [
    "Code in this notebook is courtesy of Hyeong Kyu Choi, and is inspired from the following link \n",
    "https://github.com/imhgchoi/ARIMA-LSTM-hybrid-corrcoef-predict/blob/master/MODEL_EVALUATOR.ipynb. It is used to \n",
    "generate scores for historical models so that they can be comapared with SARIMAX-LSTM and ARIMA-LSTM."
   ]
  },
  {
   "cell_type": "code",
   "execution_count": 1,
   "metadata": {},
   "outputs": [],
   "source": [
    "import pandas as pd\n",
    "import numpy as np\n",
    "import matplotlib.pyplot as plt"
   ]
  },
  {
   "cell_type": "code",
   "execution_count": 2,
   "metadata": {},
   "outputs": [],
   "source": [
    "dev = pd.read_csv(\"/Users/gauravthapliyal/Desktop/Project Data/train_dev_test/pre_ARIMA/ArimaDev.csv\")\n",
    "test1 = pd.read_csv(\"/Users/gauravthapliyal/Desktop/Project Data/train_dev_test/pre_ARIMA/ArimaTest1.csv\")\n",
    "test2 = pd.read_csv(\"/Users/gauravthapliyal/Desktop/Project Data/train_dev_test/pre_ARIMA/ArimaTest2.csv\")\n",
    "\n",
    "dev = dev.loc[:, ~dev.columns.str.contains('^Unnamed')]\n",
    "test1 = test1.loc[:, ~test1.columns.str.contains('^Unnamed')]\n",
    "test2 = test2.loc[:, ~test2.columns.str.contains('^Unnamed')]"
   ]
  },
  {
   "cell_type": "markdown",
   "metadata": {},
   "source": [
    "# Historical Model"
   ]
  },
  {
   "cell_type": "code",
   "execution_count": 3,
   "metadata": {},
   "outputs": [],
   "source": [
    "STEP = 20"
   ]
  },
  {
   "cell_type": "code",
   "execution_count": 4,
   "metadata": {},
   "outputs": [
    {
     "name": "stdout",
     "output_type": "stream",
     "text": [
      "0.4457346412292681/0.5390818629563645\n",
      "0.4367643469373426/0.5279642941089894\n",
      "0.4168674057038244/0.5164113394788777\n"
     ]
    }
   ],
   "source": [
    "dev_pred = np.array(dev['20'])\n",
    "dev_y = np.array(dev['21']).reshape(1,int(1117500/STEP))[0]\n",
    "test1_pred = np.array(test1['21'])\n",
    "test1_y = np.array(test1['22']).reshape(1,int(1117500/STEP))[0]\n",
    "test2_pred = np.array(test2['22'])\n",
    "test2_y = np.array(test2['23']).reshape(1,int(1117500/STEP))[0]\n",
    "\n",
    "dev_mse = sum((dev_pred-dev_y)**2)/len(dev_pred)\n",
    "dev_mae = sum(abs(dev_pred-dev_y))/len(dev_pred)\n",
    "test1_mse = sum((test1_pred-test1_y)**2)/len(test1_pred)\n",
    "test1_mae = sum(abs(test1_pred-test1_y))/len(test1_pred)\n",
    "test2_mse = sum((test2_pred-test2_y)**2)/len(test2_pred)\n",
    "test2_mae = sum(abs(test2_pred-test2_y))/len(test2_pred)\n",
    "\n",
    "hist_matrix = [[dev_mse, dev_mae], [test1_mse, test1_mae], [test2_mse, test2_mae]]\n",
    "for i in hist_matrix :\n",
    "    print(str(i[0]) + '/' + str(i[1]))"
   ]
  },
  {
   "cell_type": "markdown",
   "metadata": {},
   "source": [
    "# Constant Correlation Model"
   ]
  },
  {
   "cell_type": "code",
   "execution_count": 5,
   "metadata": {},
   "outputs": [
    {
     "name": "stdout",
     "output_type": "stream",
     "text": [
      "0.24601432208720056/0.4304492031068315\n",
      "0.2133409253762441/0.39848762641141955\n",
      "0.25763470915891/0.40834817856063454\n"
     ]
    }
   ],
   "source": [
    "    pred = sum(dev['20'])/int(1117500/STEP)\n",
    "    dev_pred = np.array([pred] * int(1117500/STEP))\n",
    "    pred = sum(test1['21'])/int(1117500/STEP)\n",
    "    test1_pred = np.array([pred] * int(1117500/STEP))\n",
    "    pred = sum(test2['22'])/int(1117500/STEP)\n",
    "    test2_pred = np.array([pred] * int(1117500/STEP))\n",
    "\n",
    "    dev_mse = sum((dev_pred-dev_y)**2)/len(dev_pred)\n",
    "    dev_mae = sum(abs(dev_pred-dev_y))/len(dev_pred)\n",
    "    test1_mse = sum((test1_pred-test1_y)**2)/len(test1_pred)\n",
    "    test1_mae = sum(abs(test1_pred-test1_y))/len(test1_pred)\n",
    "    test2_mse = sum((test2_pred-test2_y)**2)/len(test2_pred)\n",
    "    test2_mae = sum(abs(test2_pred-test2_y))/len(test2_pred)\n",
    "\n",
    "    cc_matrix = [[dev_mse, dev_mae], [test1_mse, test1_mae], [test2_mse, test2_mae]]\n",
    "    for i in cc_matrix :\n",
    "        print(str(i[0]) + '/' + str(i[1]))"
   ]
  },
  {
   "cell_type": "markdown",
   "metadata": {},
   "source": [
    "# Single Index Model"
   ]
  },
  {
   "cell_type": "code",
   "execution_count": 9,
   "metadata": {},
   "outputs": [],
   "source": [
    "data_df = pd.read_csv('/Users/gauravthapliyal/Desktop/Project Data/stock_pricefrom2010.csv')\n",
    "data_df = data_df.loc[:, ~data_df.columns.str.contains('^Unnamed')]\n"
   ]
  },
  {
   "cell_type": "code",
   "execution_count": 10,
   "metadata": {},
   "outputs": [
    {
     "name": "stdout",
     "output_type": "stream",
     "text": [
      "0.31492802125038677/0.46552121927703705\n",
      "0.3754396366582556/0.5014708014811812\n",
      "0.37240560545093765/0.48905279005740937\n"
     ]
    }
   ],
   "source": [
    "dev_pred = []\n",
    "test1_pred = []\n",
    "test2_pred = []\n",
    "\n",
    "for i in range(150):\n",
    "    for j in range(149-i):\n",
    "        a = portfolio[i]\n",
    "        b = portfolio[149-j]\n",
    "        for k in range(5):\n",
    "            dev_start = 2000 + k*20\n",
    "            test1_start = 2100 + k*20\n",
    "            test2_start = 2200 + k*20\n",
    "            dev_pred.append(data_df[a][dev_start:dev_start+100].corr(data_df['SP500'][dev_start:dev_start+100]) *\n",
    "                            data_df[b][dev_start:dev_start+100].corr(data_df['SP500'][dev_start:dev_start+100]))\n",
    "            test1_pred.append(data_df[a][test1_start:test1_start+100].corr(data_df['SP500'][test1_start:test1_start+100])*\n",
    "                              data_df[b][test1_start:test1_start+100].corr(data_df['SP500'][test1_start:test1_start+100]))\n",
    "            test2_pred.append(data_df[a][test2_start:test2_start+100].corr(data_df['SP500'][test2_start:test2_start+100])*\n",
    "                              data_df[b][test2_start:test2_start+100].corr(data_df['SP500'][test2_start:test2_start+100]))\n",
    "dev_pred = np.array(dev_pred)\n",
    "test1_pred = np.array(test1_pred)\n",
    "test2_pred = np.array(test2_pred)\n",
    "            \n",
    "num_list = [STEP*i for i in range(int(1117500/STEP))]\n",
    "dataset = pd.read_csv(\"/Users/gauravthapliyal/Desktop/Project Data/stock_correlation_prediction/Correlation_Matrix.csv\")\n",
    "dev_y = dataset['21'].copy()\n",
    "test1_y = dataset['22'].copy()\n",
    "test2_y = dataset['23'].copy()\n",
    "\n",
    "dev_y = np.array(dev_y[num_list]).reshape(1,int(1117500/STEP))[0]\n",
    "test1_y = np.array(test1_y[num_list]).reshape(1,int(1117500/STEP))[0]\n",
    "test2_y = np.array(test2_y[num_list]).reshape(1,int(1117500/STEP))[0]\n",
    "\n",
    "  \n",
    "\n",
    "dev_mse = sum((dev_pred-dev_y)**2)/len(dev_pred)\n",
    "dev_mae = sum(abs(dev_pred-dev_y))/len(dev_pred)\n",
    "test1_mse = sum((test1_pred-test1_y)**2)/len(test1_pred)\n",
    "test1_mae = sum(abs(test1_pred-test1_y))/len(test1_pred)\n",
    "test2_mse = sum((test2_pred-test2_y)**2)/len(test2_pred)\n",
    "test2_mae = sum(abs(test2_pred-test2_y))/len(test2_pred)\n",
    "\n",
    "mg_matrix = [[dev_mse, dev_mae], [test1_mse, test1_mae], [test2_mse, test2_mae]]\n",
    "for i in mg_matrix :\n",
    "    print(str(i[0]) + '/' + str(i[1]))                  "
   ]
  }
 ],
 "metadata": {
  "kernelspec": {
   "display_name": "Python 3",
   "language": "python",
   "name": "python3"
  },
  "language_info": {
   "codemirror_mode": {
    "name": "ipython",
    "version": 3
   },
   "file_extension": ".py",
   "mimetype": "text/x-python",
   "name": "python",
   "nbconvert_exporter": "python",
   "pygments_lexer": "ipython3",
   "version": "3.7.7"
  }
 },
 "nbformat": 4,
 "nbformat_minor": 2
}
